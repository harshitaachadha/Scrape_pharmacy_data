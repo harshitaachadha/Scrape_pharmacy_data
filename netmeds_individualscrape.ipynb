{
 "cells": [
  {
   "cell_type": "code",
   "execution_count": null,
   "metadata": {},
   "outputs": [],
   "source": [
    "from bs4 import BeautifulSoup\n",
    "import requests\n",
    "import re\n",
    "import csv\n",
    "import pandas as pd\n",
    "import os\n",
    "from PIL import Image"
   ]
  },
  {
   "cell_type": "code",
   "execution_count": null,
   "metadata": {},
   "outputs": [],
   "source": [
    "final_list=[]\n",
    "i=0\n",
    "def cleanhtml(raw_html):\n",
    "    cleanr = re.compile('<.*?>')\n",
    "    cleantext = re.sub(cleanr, '', raw_html)\n",
    "    return cleantext\n",
    "\n",
    "def appendrow(list_of_elem):\n",
    "    # Open file in append mode\n",
    "    with open('data.csv','a+', encoding='utf-8') as write_obj:\n",
    "        # Create a writer object from csv module\n",
    "        csv_writer = csv.writer(write_obj)\n",
    "        # Add contents of list as last row in the csv file\n",
    "        csv_writer.writerow(list_of_elem)"
   ]
  },
  {
   "cell_type": "code",
   "execution_count": null,
   "metadata": {},
   "outputs": [],
   "source": [
    "appendrow(['Quantity_and_Packform', 'Manufacturer', 'Medname', 'Discount Price', 'Sales Price', 'Composition', 'Image'])\n",
    "\n",
    "with open(\"a-z_links.csv\",'r') as f1:\n",
    "    csvreader=csv.reader(f1)\n",
    "    count=0\n",
    "    for row1 in csvreader:\n",
    "        if count>=20000:\n",
    "            break\n",
    "        count+=1\n",
    "        temp_list = []\n",
    "        row=list(row1)\n",
    "        url=row[0]\n",
    "        r=requests.get(url)\n",
    "        data=r.text\n",
    "        soup=BeautifulSoup(data,'html.parser')\n",
    "\n",
    "        # To find Quantity and Packform\n",
    "        qnp = str(soup.find(\"span\", attrs={'class': 'drug-varient'}))\n",
    "        Quantity_and_packform = cleanhtml(qnp)\n",
    "        temp_list.append(Quantity_and_packform)\n",
    "        #print(qnp)\n",
    "\n",
    "        # To find the manufacturer\n",
    "        manu = str(soup.find(\"span\", attrs={\"class\": 'drug-manu'}))\n",
    "        Manufacturer = cleanhtml(manu)[3:]\n",
    "        temp_list.append(Manufacturer)\n",
    "\n",
    "        # To find the name of the medicine\n",
    "        name = str(soup.find(\"h1\", attrs={\"class\": 'black-txt'}))\n",
    "        Medname = cleanhtml(name)\n",
    "        temp_list.append(Medname)\n",
    "\n",
    "        # To find the discount price\n",
    "        inter_dp = str(soup.find(\"span\", attrs={\"class\": 'final-price'}))\n",
    "        Discount_Price = cleanhtml(inter_dp)\n",
    "        temp_list.append(Discount_Price)\n",
    "\n",
    "        # To find sales price\n",
    "        inter_sp = str(soup.find(\"span\", attrs={\"class\": 'price'}))\n",
    "        Actual_Price = cleanhtml(inter_sp)\n",
    "        temp_list.append(Actual_Price)\n",
    "\n",
    "        comp = str(soup.find(\"div\", attrs={\"class\": 'drug-manu'}))\n",
    "        Composition = cleanhtml(comp)\n",
    "        comp_list = Composition.split(' + ')\n",
    "        temp_list.append(comp_list)\n",
    "        \n",
    "        try:\n",
    "            img = soup.find(\"figure\", attrs={\"class\": \"figure largeimage\"})\n",
    "            Image = img.get('src')\n",
    "            temp_list.append(Image)\n",
    "\n",
    "        except:\n",
    "            temp_list.append(\"None\")\n",
    "\n",
    "        final_list.append(temp_list)\n",
    "        appendrow(temp_list)\n",
    "\n",
    "\n",
    "print(\"finished\")"
   ]
  },
  {
   "cell_type": "code",
   "execution_count": null,
   "metadata": {},
   "outputs": [],
   "source": [
    "print(Image)"
   ]
  },
  {
   "cell_type": "code",
   "execution_count": null,
   "metadata": {},
   "outputs": [],
   "source": []
  }
 ],
 "metadata": {
  "kernelspec": {
   "display_name": "Python 3",
   "language": "python",
   "name": "python3"
  },
  "language_info": {
   "codemirror_mode": {
    "name": "ipython",
    "version": 3
   },
   "file_extension": ".py",
   "mimetype": "text/x-python",
   "name": "python",
   "nbconvert_exporter": "python",
   "pygments_lexer": "ipython3",
   "version": "3.8.5"
  }
 },
 "nbformat": 4,
 "nbformat_minor": 4
}
